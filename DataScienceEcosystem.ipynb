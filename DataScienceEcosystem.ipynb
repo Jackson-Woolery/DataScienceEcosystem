{
 "cells": [
  {
   "cell_type": "markdown",
   "id": "590e3039-af16-419f-b0ae-f2a4c6f740ef",
   "metadata": {},
   "source": [
    "# Data Science Tools and Ecosystem"
   ]
  },
  {
   "cell_type": "markdown",
   "id": "043a8795-751e-42fa-b8c2-8a83f51e6dff",
   "metadata": {},
   "source": [
    "In this notebook, Data Science Tools and Ecosystem are summarized."
   ]
  },
  {
   "cell_type": "markdown",
   "id": "29c5789c-34b5-4034-a8cc-dd040e58e04c",
   "metadata": {},
   "source": [
    "Some of the popular languages that Data Scientists use are:\n",
    "1. Python\n",
    "2. R\n",
    "3. SQL"
   ]
  },
  {
   "cell_type": "markdown",
   "id": "75e7dd47-b79c-45a2-a720-86a74c3065a1",
   "metadata": {},
   "source": [
    "Some of the commonly used libraries used by Data Scientists include:\n",
    "1. Pandas\n",
    "2. NumPy\n",
    "3. Matplotlib\n",
    "4. Seaborn\n",
    "5. Scikit-learn\n",
    "6. Keras\n",
    "7. ggplot2\n",
    "8. Vegas"
   ]
  },
  {
   "cell_type": "markdown",
   "id": "95a4e6b2-4d40-4229-a5b9-fa256cadc74e",
   "metadata": {},
   "source": [
    "|Data Science Tools|\n",
    "-----\n",
    "|Jupyter Lab|\n",
    "|RStudio|\n",
    "|IBM Watson Studio|"
   ]
  },
  {
   "cell_type": "markdown",
   "id": "50d563a6-c42f-414a-897a-ca0a67b22053",
   "metadata": {},
   "source": [
    "### Below are a few examples of evaluating arithmetic expressions in Python"
   ]
  },
  {
   "cell_type": "code",
   "execution_count": 5,
   "id": "36eb7b9c-0ff3-4ffb-8297-0e9b8a835dbb",
   "metadata": {},
   "outputs": [
    {
     "data": {
      "text/plain": [
       "17"
      ]
     },
     "execution_count": 5,
     "metadata": {},
     "output_type": "execute_result"
    }
   ],
   "source": [
    "# This is a simple arithmetic expression to multiply then add integers\n",
    "(3*4)+5"
   ]
  },
  {
   "cell_type": "code",
   "execution_count": 7,
   "id": "7457527e-c52f-4b4b-9c54-b696bdd3df57",
   "metadata": {},
   "outputs": [
    {
     "data": {
      "text/plain": [
       "3.3333333333333335"
      ]
     },
     "execution_count": 7,
     "metadata": {},
     "output_type": "execute_result"
    }
   ],
   "source": [
    "# This will convert 200 minutes to hours by dividing by 60\n",
    "200/60"
   ]
  },
  {
   "cell_type": "markdown",
   "id": "f0e7366d-b2e6-4e13-af60-063e5798852a",
   "metadata": {},
   "source": [
    "**Objectives:**\n",
    "* List Data Science languages\n",
    "* List Data Science libraries\n",
    "* List Data Science tools"
   ]
  },
  {
   "cell_type": "markdown",
   "id": "dc61aed5-973d-4128-9eeb-5b584e5f58a3",
   "metadata": {},
   "source": [
    "## Author\n",
    "Jackson"
   ]
  }
 ],
 "metadata": {
  "kernelspec": {
   "display_name": "Python 3 (ipykernel)",
   "language": "python",
   "name": "python3"
  },
  "language_info": {
   "codemirror_mode": {
    "name": "ipython",
    "version": 3
   },
   "file_extension": ".py",
   "mimetype": "text/x-python",
   "name": "python",
   "nbconvert_exporter": "python",
   "pygments_lexer": "ipython3",
   "version": "3.11.5"
  }
 },
 "nbformat": 4,
 "nbformat_minor": 5
}
